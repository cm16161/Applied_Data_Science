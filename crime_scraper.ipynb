{
 "cells": [
  {
   "cell_type": "code",
   "execution_count": 264,
   "metadata": {},
   "outputs": [],
   "source": [
    "def get_crimes(data):\n",
    "    crimes=[\"Anti-social behaviour\",\"Bicycle theft\",\"Burglary\",\"Criminal damage and arson\",\"Drugs\",\"Other theft\",\"Possession of weapons\",\"Public order\",\"Robbery\",\"Shoplifting\",\"Theft from the person\",\"Vehicle crime\",\"Violence and sexual offences\",\"Other crime\"]\n",
    "    string = data[0]\n",
    "    pattern= re.compile('\\[[^)]+\\]')\n",
    "    string = string.strip()\n",
    "\n",
    "    split = string.split('data: ',1)[1]\n",
    "    raw_data= pattern.findall(split)[0]\n",
    "    all_shit = []\n",
    "    for i in raw_data.split('\\n'):\n",
    "        res = i.strip('][').split(', ')\n",
    "        all_shit.append(res)\n",
    "\n",
    "    numbers = []\n",
    "    for i in all_shit:\n",
    "        for word in i[-1].split('],'):\n",
    "            if word.isdigit():\n",
    "                numbers.append(int(word))\n",
    "\n",
    "    print(list(zip(crimes,numbers)))\n",
    "    print(sum(numbers))\n",
    "    return list(zip(crimes,numbers)), sum(numbers)"
   ]
  },
  {
   "cell_type": "code",
   "execution_count": 280,
   "metadata": {},
   "outputs": [
    {
     "name": "stdout",
     "output_type": "stream",
     "text": [
      "getting\n",
      "parsing\n",
      "extracting data\n",
      "getting crime statistics\n",
      "[('Anti-social behaviour', 342), ('Bicycle theft', 47), ('Burglary', 52), ('Criminal damage and arson', 100), ('Drugs', 21), ('Other theft', 83), ('Possession of weapons', 5), ('Public order', 147), ('Robbery', 30), ('Shoplifting', 66), ('Theft from the person', 41), ('Vehicle crime', 100), ('Violence and sexual offences', 265), ('Other crime', 7)]\n",
      "1306\n"
     ]
    },
    {
     "data": {
      "text/plain": [
       "1306"
      ]
     },
     "execution_count": 280,
     "metadata": {},
     "output_type": "execute_result"
    }
   ],
   "source": [
    "import requests, json, regex, js2xml, re\n",
    "from bs4 import BeautifulSoup, Comment\n",
    "postcode=\"BS8 1TH\"\n",
    "postcode = postcode.replace(\" \",\"%20\")\n",
    "URL = 'https://www.crime-statistics.co.uk/postcode/'+postcode\n",
    "print(\"getting\")\n",
    "page = requests.get(URL)\n",
    "# pattern = re.compile(r'\\.val\\(\"([^@]+@[^@]+\\.[^@]+)\"\\);', re.MULTILINE | re.DOTALL)\n",
    "pattern = regex.compile(r'\\{(?:[^{}]|(?R))*\\}')\n",
    "\n",
    "\n",
    "print(\"parsing\")\n",
    "soup = BeautifulSoup(page.content, 'html.parser')\n",
    "element = soup.find(\"div\", id=\"divPieChart\")\n",
    "script = element.find('script')\n",
    "# print(script.string)\n",
    "# print(script.text)\n",
    "# match = pattern.search(script)\n",
    "# print(type(script.string))\n",
    "\n",
    "print(\"extracting data\")\n",
    "data = pattern.findall(str(script))\n",
    "\n",
    "print (\"getting crime statistics\")\n",
    "get_crimes(data)[1]\n",
    "# for d in data:\n",
    "#     print(d)\n",
    "\n",
    "# for test in soup.find_all('series'):\n",
    "#     print(test)"
   ]
  },
  {
   "cell_type": "code",
   "execution_count": 263,
   "metadata": {
    "scrolled": true
   },
   "outputs": [
    {
     "name": "stdout",
     "output_type": "stream",
     "text": [
      "[('Anti-social behaviour', 21), ('Bicycle theft', 1), ('Burglary', 1), ('Criminal damage and arson', 6), ('Drugs', 3), ('Other theft', 8), ('Possession of weapons', 2), ('Public order', 2), ('Robbery', 1), ('Shoplifting', 5), ('Theft from the person', 0), ('Vehicle crime', 3), ('Violence and sexual offences', 20), ('Other crime', 1)]\n",
      "74\n"
     ]
    }
   ],
   "source": [
    "data = [\"{\\r\\n        $('#container').highcharts({\\r\\n            chart: {\\r\\n                plotBackgroundColor: null,\\r\\n                plotBorderWidth: null,\\r\\n                plotShadow: true\\r\\n            },\\r\\n            title: {\\r\\n                text: 'Percentage of Crime in Croxley Green, Hertfordshire, WD3 3QX, England March 2020',\\r\\n                align: 'left'\\r\\n            },\\r\\n            tooltip: {\\r\\n                pointFormat: '{series.name}: <b>{point.percentage:.1f}%</b>'\\r\\n            },\\r\\n            plotOptions: {\\r\\n                pie: {\\r\\n                    allowPointSelect: true,\\r\\n                    cursor: 'pointer',\\r\\n                    dataLabels: {\\r\\n                        enabled: true,\\r\\n                        format: '<b>{point.name}</b>: {point.percentage:.1f} %',\\r\\n                        style: {\\r\\n                            color: (Highcharts.theme && Highcharts.theme.contrastTextColor) || 'black'\\r\\n                        }\\r\\n                    }\\r\\n                }\\r\\n            },\\r\\n            series: [{\\r\\n                type: 'pie',\\r\\n                name: 'Crimes',\\r\\n                data: [\\r\\n\\r\\n\\t['Anti-social behaviour', 21],\\r\\n\\t['Bicycle theft', 1],\\r\\n\\t['Burglary', 1],\\r\\n\\t['Criminal damage and arson', 6],\\r\\n\\t['Drugs', 3],\\r\\n\\t['Other theft', 8],\\r\\n\\t['Possession of weapons', 2],\\r\\n\\t['Public order', 2],\\r\\n\\t['Robbery', 1],\\r\\n\\t['Shoplifting', 5],\\r\\n\\t['Theft from the person', 0],\\r\\n\\t['Vehicle crime', 3],\\r\\n\\t['Violence and sexual offences', 20],\\r\\n\\t['Other crime', 1],\\r\\n\\r\\n                ]\\r\\n            }]\\r\\n        });\\r\\n    }\"]\n",
    "\n",
    "get_crimes(data)\n",
    "\n",
    "def get_crimes(data):\n",
    "    crimes=[\"Anti-social behaviour\",\"Bicycle theft\",\"Burglary\",\"Criminal damage and arson\",\"Drugs\",\"Other theft\",\"Possession of weapons\",\"Public order\",\"Robbery\",\"Shoplifting\",\"Theft from the person\",\"Vehicle crime\",\"Violence and sexual offences\",\"Other crime\"]\n",
    "    string = data[0]\n",
    "    pattern= re.compile('\\[[^)]+\\]')\n",
    "    string = string.strip()\n",
    "\n",
    "    split = string.split('data: ',1)[1]\n",
    "    raw_data= pattern.findall(split)[0]\n",
    "    all_shit = []\n",
    "    for i in raw_data.split('\\n'):\n",
    "        res = i.strip('][').split(', ')\n",
    "        all_shit.append(res)\n",
    "\n",
    "    numbers = []\n",
    "    for i in all_shit:\n",
    "        for word in i[-1].split('],'):\n",
    "            if word.isdigit():\n",
    "                numbers.append(int(word))\n",
    "\n",
    "    print(list(zip(crimes,numbers)))\n",
    "    print(sum(numbers))\n",
    "    return list(zip(crimes,numbers)), sum(numbers)"
   ]
  },
  {
   "cell_type": "code",
   "execution_count": 279,
   "metadata": {},
   "outputs": [
    {
     "name": "stdout",
     "output_type": "stream",
     "text": [
      "BS8%201TH\n"
     ]
    }
   ],
   "source": [
    "postcode=\"BS8 1TH\"\n",
    "postcode=postcode.replace(\" \",\"%20\")\n",
    "print (postcode)\n"
   ]
  }
 ],
 "metadata": {
  "kernelspec": {
   "display_name": "Python 3",
   "language": "python",
   "name": "python3"
  },
  "language_info": {
   "codemirror_mode": {
    "name": "ipython",
    "version": 3
   },
   "file_extension": ".py",
   "mimetype": "text/x-python",
   "name": "python",
   "nbconvert_exporter": "python",
   "pygments_lexer": "ipython3",
   "version": "3.6.9"
  }
 },
 "nbformat": 4,
 "nbformat_minor": 4
}
