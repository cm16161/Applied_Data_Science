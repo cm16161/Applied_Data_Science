{
 "cells": [
  {
   "cell_type": "code",
   "execution_count": 289,
   "metadata": {},
   "outputs": [],
   "source": [
    "import requests, json, regex, js2xml, re\n",
    "from bs4 import BeautifulSoup, Comment\n",
    "\n",
    "\n",
    "def get_crimes(data):\n",
    "    crimes=[\"Anti-social behaviour\",\"Bicycle theft\",\"Burglary\",\"Criminal damage and arson\",\"Drugs\",\"Other theft\",\"Possession of weapons\",\"Public order\",\"Robbery\",\"Shoplifting\",\"Theft from the person\",\"Vehicle crime\",\"Violence and sexual offences\",\"Other crime\"]\n",
    "    string = data[0]\n",
    "    pattern= re.compile('\\[[^)]+\\]')\n",
    "    string = string.strip()\n",
    "\n",
    "    split = string.split('data: ',1)[1]\n",
    "    raw_data= pattern.findall(split)[0]\n",
    "    all_shit = []\n",
    "    for i in raw_data.split('\\n'):\n",
    "        res = i.strip('][').split(', ')\n",
    "        all_shit.append(res)\n",
    "\n",
    "    numbers = []\n",
    "    for i in all_shit:\n",
    "        for word in i[-1].split('],'):\n",
    "            if word.isdigit():\n",
    "                numbers.append(int(word))\n",
    "\n",
    "    print(list(zip(crimes,numbers)))\n",
    "    print(sum(numbers))\n",
    "    return list(zip(crimes,numbers)), sum(numbers)\n",
    "\n",
    "def get_crime_data(postcode):\n",
    "    postcode = postcode.replace(\" \",\"%20\")\n",
    "    URL = 'https://www.crime-statistics.co.uk/postcode/'+postcode\n",
    "    print(\"getting\")\n",
    "    page = requests.get(URL)\n",
    "    pattern = regex.compile(r'\\{(?:[^{}]|(?R))*\\}')\n",
    "\n",
    "    print(\"parsing\")\n",
    "    soup = BeautifulSoup(page.content, 'html.parser')\n",
    "    element = soup.find(\"div\", id=\"divPieChart\")\n",
    "    script = element.find('script')\n",
    "\n",
    "    print(\"extracting data\")\n",
    "    data = pattern.findall(str(script))\n",
    "\n",
    "    print (\"getting crime statistics\")\n",
    "    return get_crimes(data)\n"
   ]
  },
  {
   "cell_type": "code",
   "execution_count": 291,
   "metadata": {},
   "outputs": [
    {
     "name": "stdout",
     "output_type": "stream",
     "text": [
      "getting\n",
      "parsing\n",
      "extracting data\n",
      "getting crime statistics\n",
      "[('Anti-social behaviour', 130), ('Bicycle theft', 19), ('Burglary', 28), ('Criminal damage and arson', 70), ('Drugs', 8), ('Other theft', 48), ('Possession of weapons', 4), ('Public order', 55), ('Robbery', 7), ('Shoplifting', 8), ('Theft from the person', 6), ('Vehicle crime', 50), ('Violence and sexual offences', 138), ('Other crime', 6)]\n",
      "577\n"
     ]
    }
   ],
   "source": [
    "postcode=\"BS7 8BP\"\n",
    "\n",
    "breakdown, total = get_crime_data(postcode)"
   ]
  }
 ],
 "metadata": {
  "kernelspec": {
   "display_name": "Python 3",
   "language": "python",
   "name": "python3"
  },
  "language_info": {
   "codemirror_mode": {
    "name": "ipython",
    "version": 3
   },
   "file_extension": ".py",
   "mimetype": "text/x-python",
   "name": "python",
   "nbconvert_exporter": "python",
   "pygments_lexer": "ipython3",
   "version": "3.6.9"
  }
 },
 "nbformat": 4,
 "nbformat_minor": 4
}
